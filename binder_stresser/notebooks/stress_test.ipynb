{
 "cells": [
  {
   "cell_type": "code",
   "metadata": {},
   "source": [
    "import numpy as np\n",
    "from numba import njit, prange\n",
    "import time, multiprocessing\n",
    "import matplotlib.pyplot as plt\n",
    "\n",
    "print('CPUs available:', multiprocessing.cpu_count())\n",
    "\n",
    "@njit(parallel=True)\n",
    "def big_dot(A, B):\n",
    "    n = A.shape[0]\n",
    "    C = np.zeros((n, n))\n",
    "    for i in prange(n):\n",
    "        for j in range(n):\n",
    "            for k in range(n):\n",
    "                C[i, j] += A[i, k] * B[k, j]\n",
    "    return C\n",
    "\n",
    "n = 800  # adjust if Binder RAM errors (>1000 is risky)\n",
    "A = np.random.rand(n, n)\n",
    "B = np.random.rand(n, n)\n",
    "\n",
    "start = time.time()\n",
    "C = big_dot(A, B)\n",
    "elapsed = time.time() - start\n",
    "print(f'Elapsed: {elapsed:.2f} s')\n",
    "\n",
    "plt.imshow(C[:100, :100], cmap='inferno')\n",
    "plt.title(f'{n}x{n} Matrix Product Snapshot')\n",
    "plt.show()"
   ],
   "outputs": [],
   "execution_count": null
  }
 ],
 "metadata": {
  "kernelspec": {
   "display_name": "Python 3",
   "language": "python",
   "name": "python3"
  },
  "language_info": {
   "name": "python",
   "version": "3.11"
  }
 },
 "nbformat": 4,
 "nbformat_minor": 5
}
