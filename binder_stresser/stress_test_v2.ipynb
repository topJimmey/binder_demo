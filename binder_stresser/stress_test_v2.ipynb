{
 "cells": [
  {
   "cell_type": "markdown",
   "id": "23205d02",
   "metadata": {},
   "source": [
    "# Binder Stress Test v2\n",
    "This notebook runs multiple heavy computations to fully stress the Binder -> Docker -> Kubernetes environment."
   ]
  },
  {
   "cell_type": "code",
   "execution_count": null,
   "id": "9164cae3",
   "metadata": {},
   "outputs": [],
   "source": [
    "import numpy as np\n",
    "from numba import njit, prange\n",
    "import matplotlib.pyplot as plt\n",
    "from joblib import Parallel, delayed\n",
    "import time, multiprocessing\n",
    "\n",
    "print(\"CPUs available:\", multiprocessing.cpu_count())\n"
   ]
  },
  {
   "cell_type": "code",
   "execution_count": null,
   "id": "234ad825",
   "metadata": {},
   "outputs": [],
   "source": [
    "# 1. Bigger matrix multiplication\n",
    "@njit(parallel=True)\n",
    "def big_dot(A, B):\n",
    "    n = A.shape[0]\n",
    "    C = np.zeros((n, n))\n",
    "    for i in prange(n):\n",
    "        for j in range(n):\n",
    "            for k in range(n):\n",
    "                C[i, j] += A[i, k] * B[k, j]\n",
    "    return C\n",
    "\n",
    "n = 1200\n",
    "A = np.random.rand(n, n)\n",
    "B = np.random.rand(n, n)\n",
    "\n",
    "start = time.time()\n",
    "C = big_dot(A, B)\n",
    "elapsed = time.time() - start\n",
    "print(f\"Bigger matrix {n}x{n} multiplication elapsed: {elapsed:.2f} s\")\n",
    "\n",
    "plt.figure(figsize=(6,5))\n",
    "plt.imshow(C[:100, :100], cmap='viridis')\n",
    "plt.title(f\"{n}x{n} Matrix Product Snapshot\")\n",
    "plt.colorbar()\n",
    "plt.show()\n"
   ]
  },
  {
   "cell_type": "code",
   "execution_count": null,
   "id": "52525c94",
   "metadata": {},
   "outputs": [],
   "source": [
    "# 2. Multiple matrix multiplications in parallel\n",
    "def mat_task(seed):\n",
    "    np.random.seed(seed)\n",
    "    A = np.random.rand(800, 800)\n",
    "    B = np.random.rand(800, 800)\n",
    "    return big_dot(A, B)\n",
    "\n",
    "start = time.time()\n",
    "results = Parallel(n_jobs=-1)(delayed(mat_task)(i) for i in range(4))\n",
    "elapsed = time.time() - start\n",
    "print(f\"Parallel 4x 800x800 matrices elapsed: {elapsed:.2f} s\")\n",
    "\n",
    "plt.figure(figsize=(10,2))\n",
    "for i, R in enumerate(results):\n",
    "    plt.subplot(1,4,i+1)\n",
    "    plt.imshow(R[:50,:50], cmap='plasma')\n",
    "    plt.title(f\"Task {i+1}\")\n",
    "plt.suptitle(\"Snapshots of parallel matrix products\")\n",
    "plt.show()\n"
   ]
  },
  {
   "cell_type": "code",
   "execution_count": null,
   "id": "8ac05451",
   "metadata": {},
   "outputs": [],
   "source": [
    "# 3. Monte Carlo π estimation\n",
    "@njit(parallel=True)\n",
    "def monte_carlo_pi(num_samples):\n",
    "    count = 0\n",
    "    for i in prange(num_samples):\n",
    "        x, y = np.random.rand(), np.random.rand()\n",
    "        if x**2 + y**2 <= 1:\n",
    "            count += 1\n",
    "    return count\n",
    "\n",
    "samples = 300_000_000  # 300 million samples\n",
    "start = time.time()\n",
    "hits = monte_carlo_pi(samples)\n",
    "pi_est = 4 * hits / samples\n",
    "elapsed = time.time() - start\n",
    "print(f\"Monte Carlo π estimation: {pi_est:.6f}, elapsed: {elapsed:.2f} s\")\n"
   ]
  },
  {
   "cell_type": "code",
   "execution_count": null,
   "id": "4249bb77",
   "metadata": {},
   "outputs": [],
   "source": [
    "# 4. SVD computation\n",
    "from scipy.linalg import svd\n",
    "\n",
    "X = np.random.rand(1000, 1000)\n",
    "start = time.time()\n",
    "U, s, V = svd(X)\n",
    "elapsed = time.time() - start\n",
    "print(f\"SVD of 1000x1000 matrix elapsed: {elapsed:.2f} s\")\n",
    "\n",
    "plt.figure(figsize=(6,4))\n",
    "plt.plot(s[:50], marker='o')\n",
    "plt.title(\"Top 50 singular values of 1000x1000 matrix\")\n",
    "plt.xlabel(\"Index\")\n",
    "plt.ylabel(\"Singular value\")\n",
    "plt.grid(True)\n",
    "plt.show()\n"
   ]
  }
 ],
 "metadata": {},
 "nbformat": 4,
 "nbformat_minor": 5
}
